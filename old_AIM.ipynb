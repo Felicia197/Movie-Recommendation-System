{
  "cells": [
    {
      "cell_type": "markdown",
      "id": "5a8f98d7",
      "metadata": {
        "tags": [],
        "id": "5a8f98d7"
      },
      "source": [
        "# Data Processing"
      ]
    },
    {
      "cell_type": "code",
      "execution_count": null,
      "id": "dae363d4",
      "metadata": {
        "id": "dae363d4",
        "outputId": "3f5f4a96-b502-4aea-cb9a-651e33813e40"
      },
      "outputs": [
        {
          "data": {
            "text/html": [
              "<div>\n",
              "<style scoped>\n",
              "    .dataframe tbody tr th:only-of-type {\n",
              "        vertical-align: middle;\n",
              "    }\n",
              "\n",
              "    .dataframe tbody tr th {\n",
              "        vertical-align: top;\n",
              "    }\n",
              "\n",
              "    .dataframe thead th {\n",
              "        text-align: right;\n",
              "    }\n",
              "</style>\n",
              "<table border=\"1\" class=\"dataframe\">\n",
              "  <thead>\n",
              "    <tr style=\"text-align: right;\">\n",
              "      <th></th>\n",
              "      <th>adult</th>\n",
              "      <th>belongs_to_collection</th>\n",
              "      <th>budget</th>\n",
              "      <th>genres</th>\n",
              "      <th>homepage</th>\n",
              "      <th>id</th>\n",
              "      <th>imdb_id</th>\n",
              "      <th>original_language</th>\n",
              "      <th>original_title</th>\n",
              "      <th>overview</th>\n",
              "      <th>...</th>\n",
              "      <th>release_date</th>\n",
              "      <th>revenue</th>\n",
              "      <th>runtime</th>\n",
              "      <th>spoken_languages</th>\n",
              "      <th>status</th>\n",
              "      <th>tagline</th>\n",
              "      <th>title</th>\n",
              "      <th>video</th>\n",
              "      <th>vote_average</th>\n",
              "      <th>vote_count</th>\n",
              "    </tr>\n",
              "  </thead>\n",
              "  <tbody>\n",
              "    <tr>\n",
              "      <th>0</th>\n",
              "      <td>False</td>\n",
              "      <td>{'id': 10194, 'name': 'Toy Story Collection', ...</td>\n",
              "      <td>30000000</td>\n",
              "      <td>[{'id': 16, 'name': 'Animation'}, {'id': 35, '...</td>\n",
              "      <td>http://toystory.disney.com/toy-story</td>\n",
              "      <td>862</td>\n",
              "      <td>tt0114709</td>\n",
              "      <td>en</td>\n",
              "      <td>Toy Story</td>\n",
              "      <td>Led by Woody, Andy's toys live happily in his ...</td>\n",
              "      <td>...</td>\n",
              "      <td>1995-10-30</td>\n",
              "      <td>373554033.0</td>\n",
              "      <td>81.0</td>\n",
              "      <td>[{'iso_639_1': 'en', 'name': 'English'}]</td>\n",
              "      <td>Released</td>\n",
              "      <td>NaN</td>\n",
              "      <td>Toy Story</td>\n",
              "      <td>False</td>\n",
              "      <td>7.7</td>\n",
              "      <td>5415.0</td>\n",
              "    </tr>\n",
              "    <tr>\n",
              "      <th>1</th>\n",
              "      <td>False</td>\n",
              "      <td>NaN</td>\n",
              "      <td>65000000</td>\n",
              "      <td>[{'id': 12, 'name': 'Adventure'}, {'id': 14, '...</td>\n",
              "      <td>NaN</td>\n",
              "      <td>8844</td>\n",
              "      <td>tt0113497</td>\n",
              "      <td>en</td>\n",
              "      <td>Jumanji</td>\n",
              "      <td>When siblings Judy and Peter discover an encha...</td>\n",
              "      <td>...</td>\n",
              "      <td>1995-12-15</td>\n",
              "      <td>262797249.0</td>\n",
              "      <td>104.0</td>\n",
              "      <td>[{'iso_639_1': 'en', 'name': 'English'}, {'iso...</td>\n",
              "      <td>Released</td>\n",
              "      <td>Roll the dice and unleash the excitement!</td>\n",
              "      <td>Jumanji</td>\n",
              "      <td>False</td>\n",
              "      <td>6.9</td>\n",
              "      <td>2413.0</td>\n",
              "    </tr>\n",
              "    <tr>\n",
              "      <th>2</th>\n",
              "      <td>False</td>\n",
              "      <td>{'id': 119050, 'name': 'Grumpy Old Men Collect...</td>\n",
              "      <td>0</td>\n",
              "      <td>[{'id': 10749, 'name': 'Romance'}, {'id': 35, ...</td>\n",
              "      <td>NaN</td>\n",
              "      <td>15602</td>\n",
              "      <td>tt0113228</td>\n",
              "      <td>en</td>\n",
              "      <td>Grumpier Old Men</td>\n",
              "      <td>A family wedding reignites the ancient feud be...</td>\n",
              "      <td>...</td>\n",
              "      <td>1995-12-22</td>\n",
              "      <td>0.0</td>\n",
              "      <td>101.0</td>\n",
              "      <td>[{'iso_639_1': 'en', 'name': 'English'}]</td>\n",
              "      <td>Released</td>\n",
              "      <td>Still Yelling. Still Fighting. Still Ready for...</td>\n",
              "      <td>Grumpier Old Men</td>\n",
              "      <td>False</td>\n",
              "      <td>6.5</td>\n",
              "      <td>92.0</td>\n",
              "    </tr>\n",
              "    <tr>\n",
              "      <th>3</th>\n",
              "      <td>False</td>\n",
              "      <td>NaN</td>\n",
              "      <td>16000000</td>\n",
              "      <td>[{'id': 35, 'name': 'Comedy'}, {'id': 18, 'nam...</td>\n",
              "      <td>NaN</td>\n",
              "      <td>31357</td>\n",
              "      <td>tt0114885</td>\n",
              "      <td>en</td>\n",
              "      <td>Waiting to Exhale</td>\n",
              "      <td>Cheated on, mistreated and stepped on, the wom...</td>\n",
              "      <td>...</td>\n",
              "      <td>1995-12-22</td>\n",
              "      <td>81452156.0</td>\n",
              "      <td>127.0</td>\n",
              "      <td>[{'iso_639_1': 'en', 'name': 'English'}]</td>\n",
              "      <td>Released</td>\n",
              "      <td>Friends are the people who let you be yourself...</td>\n",
              "      <td>Waiting to Exhale</td>\n",
              "      <td>False</td>\n",
              "      <td>6.1</td>\n",
              "      <td>34.0</td>\n",
              "    </tr>\n",
              "    <tr>\n",
              "      <th>4</th>\n",
              "      <td>False</td>\n",
              "      <td>{'id': 96871, 'name': 'Father of the Bride Col...</td>\n",
              "      <td>0</td>\n",
              "      <td>[{'id': 35, 'name': 'Comedy'}]</td>\n",
              "      <td>NaN</td>\n",
              "      <td>11862</td>\n",
              "      <td>tt0113041</td>\n",
              "      <td>en</td>\n",
              "      <td>Father of the Bride Part II</td>\n",
              "      <td>Just when George Banks has recovered from his ...</td>\n",
              "      <td>...</td>\n",
              "      <td>1995-02-10</td>\n",
              "      <td>76578911.0</td>\n",
              "      <td>106.0</td>\n",
              "      <td>[{'iso_639_1': 'en', 'name': 'English'}]</td>\n",
              "      <td>Released</td>\n",
              "      <td>Just When His World Is Back To Normal... He's ...</td>\n",
              "      <td>Father of the Bride Part II</td>\n",
              "      <td>False</td>\n",
              "      <td>5.7</td>\n",
              "      <td>173.0</td>\n",
              "    </tr>\n",
              "  </tbody>\n",
              "</table>\n",
              "<p>5 rows × 24 columns</p>\n",
              "</div>"
            ],
            "text/plain": [
              "   adult                              belongs_to_collection    budget  \\\n",
              "0  False  {'id': 10194, 'name': 'Toy Story Collection', ...  30000000   \n",
              "1  False                                                NaN  65000000   \n",
              "2  False  {'id': 119050, 'name': 'Grumpy Old Men Collect...         0   \n",
              "3  False                                                NaN  16000000   \n",
              "4  False  {'id': 96871, 'name': 'Father of the Bride Col...         0   \n",
              "\n",
              "                                              genres  \\\n",
              "0  [{'id': 16, 'name': 'Animation'}, {'id': 35, '...   \n",
              "1  [{'id': 12, 'name': 'Adventure'}, {'id': 14, '...   \n",
              "2  [{'id': 10749, 'name': 'Romance'}, {'id': 35, ...   \n",
              "3  [{'id': 35, 'name': 'Comedy'}, {'id': 18, 'nam...   \n",
              "4                     [{'id': 35, 'name': 'Comedy'}]   \n",
              "\n",
              "                               homepage     id    imdb_id original_language  \\\n",
              "0  http://toystory.disney.com/toy-story    862  tt0114709                en   \n",
              "1                                   NaN   8844  tt0113497                en   \n",
              "2                                   NaN  15602  tt0113228                en   \n",
              "3                                   NaN  31357  tt0114885                en   \n",
              "4                                   NaN  11862  tt0113041                en   \n",
              "\n",
              "                original_title  \\\n",
              "0                    Toy Story   \n",
              "1                      Jumanji   \n",
              "2             Grumpier Old Men   \n",
              "3            Waiting to Exhale   \n",
              "4  Father of the Bride Part II   \n",
              "\n",
              "                                            overview  ... release_date  \\\n",
              "0  Led by Woody, Andy's toys live happily in his ...  ...   1995-10-30   \n",
              "1  When siblings Judy and Peter discover an encha...  ...   1995-12-15   \n",
              "2  A family wedding reignites the ancient feud be...  ...   1995-12-22   \n",
              "3  Cheated on, mistreated and stepped on, the wom...  ...   1995-12-22   \n",
              "4  Just when George Banks has recovered from his ...  ...   1995-02-10   \n",
              "\n",
              "       revenue runtime                                   spoken_languages  \\\n",
              "0  373554033.0    81.0           [{'iso_639_1': 'en', 'name': 'English'}]   \n",
              "1  262797249.0   104.0  [{'iso_639_1': 'en', 'name': 'English'}, {'iso...   \n",
              "2          0.0   101.0           [{'iso_639_1': 'en', 'name': 'English'}]   \n",
              "3   81452156.0   127.0           [{'iso_639_1': 'en', 'name': 'English'}]   \n",
              "4   76578911.0   106.0           [{'iso_639_1': 'en', 'name': 'English'}]   \n",
              "\n",
              "     status                                            tagline  \\\n",
              "0  Released                                                NaN   \n",
              "1  Released          Roll the dice and unleash the excitement!   \n",
              "2  Released  Still Yelling. Still Fighting. Still Ready for...   \n",
              "3  Released  Friends are the people who let you be yourself...   \n",
              "4  Released  Just When His World Is Back To Normal... He's ...   \n",
              "\n",
              "                         title  video vote_average vote_count  \n",
              "0                    Toy Story  False          7.7     5415.0  \n",
              "1                      Jumanji  False          6.9     2413.0  \n",
              "2             Grumpier Old Men  False          6.5       92.0  \n",
              "3            Waiting to Exhale  False          6.1       34.0  \n",
              "4  Father of the Bride Part II  False          5.7      173.0  \n",
              "\n",
              "[5 rows x 24 columns]"
            ]
          },
          "execution_count": 1,
          "metadata": {},
          "output_type": "execute_result"
        }
      ],
      "source": [
        "#Import the pandas and numpy library \n",
        "import pandas as pd\n",
        "import numpy as np\n",
        "\n",
        "#Read the CSV File into df\n",
        "df = pd.read_csv('Desktop/AIM Assignment/data/movies_metadata.csv/movies_metadata.csv', low_memory=False)\n",
        "df.head()"
      ]
    },
    {
      "cell_type": "code",
      "execution_count": null,
      "id": "8abb057b",
      "metadata": {
        "id": "8abb057b",
        "outputId": "a4b29293-cd51-463f-a7d9-f1cb30ff4919"
      },
      "outputs": [
        {
          "data": {
            "text/plain": [
              "(45466, 24)"
            ]
          },
          "execution_count": 2,
          "metadata": {},
          "output_type": "execute_result"
        }
      ],
      "source": [
        "#Output the shape of df\n",
        "df.shape"
      ]
    },
    {
      "cell_type": "code",
      "execution_count": null,
      "id": "d95a309b",
      "metadata": {
        "id": "d95a309b",
        "outputId": "2ec421bc-a59f-4e98-e7bb-9d970b55bf54"
      },
      "outputs": [
        {
          "data": {
            "text/plain": [
              "Index(['adult', 'belongs_to_collection', 'budget', 'genres', 'homepage', 'id',\n",
              "       'imdb_id', 'original_language', 'original_title', 'overview',\n",
              "       'popularity', 'poster_path', 'production_companies',\n",
              "       'production_countries', 'release_date', 'revenue', 'runtime',\n",
              "       'spoken_languages', 'status', 'tagline', 'title', 'video',\n",
              "       'vote_average', 'vote_count'],\n",
              "      dtype='object')"
            ]
          },
          "execution_count": 3,
          "metadata": {},
          "output_type": "execute_result"
        }
      ],
      "source": [
        "#Output the columns of df\n",
        "df.columns"
      ]
    },
    {
      "cell_type": "code",
      "execution_count": null,
      "id": "84b496a6",
      "metadata": {
        "scrolled": true,
        "id": "84b496a6",
        "outputId": "0756a47c-961c-4ec4-e613-47fc2340ab02"
      },
      "outputs": [
        {
          "data": {
            "text/html": [
              "<div>\n",
              "<style scoped>\n",
              "    .dataframe tbody tr th:only-of-type {\n",
              "        vertical-align: middle;\n",
              "    }\n",
              "\n",
              "    .dataframe tbody tr th {\n",
              "        vertical-align: top;\n",
              "    }\n",
              "\n",
              "    .dataframe thead th {\n",
              "        text-align: right;\n",
              "    }\n",
              "</style>\n",
              "<table border=\"1\" class=\"dataframe\">\n",
              "  <thead>\n",
              "    <tr style=\"text-align: right;\">\n",
              "      <th></th>\n",
              "      <th>title</th>\n",
              "      <th>genres</th>\n",
              "      <th>release_date</th>\n",
              "      <th>runtime</th>\n",
              "      <th>vote_average</th>\n",
              "      <th>vote_count</th>\n",
              "      <th>overview</th>\n",
              "      <th>id</th>\n",
              "    </tr>\n",
              "  </thead>\n",
              "  <tbody>\n",
              "    <tr>\n",
              "      <th>0</th>\n",
              "      <td>Toy Story</td>\n",
              "      <td>[{'id': 16, 'name': 'Animation'}, {'id': 35, '...</td>\n",
              "      <td>1995-10-30</td>\n",
              "      <td>81.0</td>\n",
              "      <td>7.7</td>\n",
              "      <td>5415.0</td>\n",
              "      <td>Led by Woody, Andy's toys live happily in his ...</td>\n",
              "      <td>862</td>\n",
              "    </tr>\n",
              "    <tr>\n",
              "      <th>1</th>\n",
              "      <td>Jumanji</td>\n",
              "      <td>[{'id': 12, 'name': 'Adventure'}, {'id': 14, '...</td>\n",
              "      <td>1995-12-15</td>\n",
              "      <td>104.0</td>\n",
              "      <td>6.9</td>\n",
              "      <td>2413.0</td>\n",
              "      <td>When siblings Judy and Peter discover an encha...</td>\n",
              "      <td>8844</td>\n",
              "    </tr>\n",
              "    <tr>\n",
              "      <th>2</th>\n",
              "      <td>Grumpier Old Men</td>\n",
              "      <td>[{'id': 10749, 'name': 'Romance'}, {'id': 35, ...</td>\n",
              "      <td>1995-12-22</td>\n",
              "      <td>101.0</td>\n",
              "      <td>6.5</td>\n",
              "      <td>92.0</td>\n",
              "      <td>A family wedding reignites the ancient feud be...</td>\n",
              "      <td>15602</td>\n",
              "    </tr>\n",
              "    <tr>\n",
              "      <th>3</th>\n",
              "      <td>Waiting to Exhale</td>\n",
              "      <td>[{'id': 35, 'name': 'Comedy'}, {'id': 18, 'nam...</td>\n",
              "      <td>1995-12-22</td>\n",
              "      <td>127.0</td>\n",
              "      <td>6.1</td>\n",
              "      <td>34.0</td>\n",
              "      <td>Cheated on, mistreated and stepped on, the wom...</td>\n",
              "      <td>31357</td>\n",
              "    </tr>\n",
              "    <tr>\n",
              "      <th>4</th>\n",
              "      <td>Father of the Bride Part II</td>\n",
              "      <td>[{'id': 35, 'name': 'Comedy'}]</td>\n",
              "      <td>1995-02-10</td>\n",
              "      <td>106.0</td>\n",
              "      <td>5.7</td>\n",
              "      <td>173.0</td>\n",
              "      <td>Just when George Banks has recovered from his ...</td>\n",
              "      <td>11862</td>\n",
              "    </tr>\n",
              "  </tbody>\n",
              "</table>\n",
              "</div>"
            ],
            "text/plain": [
              "                         title  \\\n",
              "0                    Toy Story   \n",
              "1                      Jumanji   \n",
              "2             Grumpier Old Men   \n",
              "3            Waiting to Exhale   \n",
              "4  Father of the Bride Part II   \n",
              "\n",
              "                                              genres release_date  runtime  \\\n",
              "0  [{'id': 16, 'name': 'Animation'}, {'id': 35, '...   1995-10-30     81.0   \n",
              "1  [{'id': 12, 'name': 'Adventure'}, {'id': 14, '...   1995-12-15    104.0   \n",
              "2  [{'id': 10749, 'name': 'Romance'}, {'id': 35, ...   1995-12-22    101.0   \n",
              "3  [{'id': 35, 'name': 'Comedy'}, {'id': 18, 'nam...   1995-12-22    127.0   \n",
              "4                     [{'id': 35, 'name': 'Comedy'}]   1995-02-10    106.0   \n",
              "\n",
              "   vote_average  vote_count  \\\n",
              "0           7.7      5415.0   \n",
              "1           6.9      2413.0   \n",
              "2           6.5        92.0   \n",
              "3           6.1        34.0   \n",
              "4           5.7       173.0   \n",
              "\n",
              "                                            overview     id  \n",
              "0  Led by Woody, Andy's toys live happily in his ...    862  \n",
              "1  When siblings Judy and Peter discover an encha...   8844  \n",
              "2  A family wedding reignites the ancient feud be...  15602  \n",
              "3  Cheated on, mistreated and stepped on, the wom...  31357  \n",
              "4  Just when George Banks has recovered from his ...  11862  "
            ]
          },
          "execution_count": 4,
          "metadata": {},
          "output_type": "execute_result"
        }
      ],
      "source": [
        "#Keeping the features that require \n",
        "df = df[['title','genres', 'release_date', 'runtime', 'vote_average', 'vote_count','overview','id']]\n",
        "\n",
        "df.head()"
      ]
    },
    {
      "cell_type": "code",
      "execution_count": null,
      "id": "016ea412",
      "metadata": {
        "scrolled": true,
        "id": "016ea412",
        "outputId": "d35117ec-297b-4ef5-85ea-6761a365d1a2"
      },
      "outputs": [
        {
          "data": {
            "text/html": [
              "<div>\n",
              "<style scoped>\n",
              "    .dataframe tbody tr th:only-of-type {\n",
              "        vertical-align: middle;\n",
              "    }\n",
              "\n",
              "    .dataframe tbody tr th {\n",
              "        vertical-align: top;\n",
              "    }\n",
              "\n",
              "    .dataframe thead th {\n",
              "        text-align: right;\n",
              "    }\n",
              "</style>\n",
              "<table border=\"1\" class=\"dataframe\">\n",
              "  <thead>\n",
              "    <tr style=\"text-align: right;\">\n",
              "      <th></th>\n",
              "      <th>title</th>\n",
              "      <th>genres</th>\n",
              "      <th>runtime</th>\n",
              "      <th>vote_average</th>\n",
              "      <th>vote_count</th>\n",
              "      <th>overview</th>\n",
              "      <th>id</th>\n",
              "      <th>year</th>\n",
              "    </tr>\n",
              "  </thead>\n",
              "  <tbody>\n",
              "    <tr>\n",
              "      <th>0</th>\n",
              "      <td>Toy Story</td>\n",
              "      <td>[{'id': 16, 'name': 'Animation'}, {'id': 35, '...</td>\n",
              "      <td>81.0</td>\n",
              "      <td>7.7</td>\n",
              "      <td>5415.0</td>\n",
              "      <td>Led by Woody, Andy's toys live happily in his ...</td>\n",
              "      <td>862</td>\n",
              "      <td>1995</td>\n",
              "    </tr>\n",
              "    <tr>\n",
              "      <th>1</th>\n",
              "      <td>Jumanji</td>\n",
              "      <td>[{'id': 12, 'name': 'Adventure'}, {'id': 14, '...</td>\n",
              "      <td>104.0</td>\n",
              "      <td>6.9</td>\n",
              "      <td>2413.0</td>\n",
              "      <td>When siblings Judy and Peter discover an encha...</td>\n",
              "      <td>8844</td>\n",
              "      <td>1995</td>\n",
              "    </tr>\n",
              "    <tr>\n",
              "      <th>2</th>\n",
              "      <td>Grumpier Old Men</td>\n",
              "      <td>[{'id': 10749, 'name': 'Romance'}, {'id': 35, ...</td>\n",
              "      <td>101.0</td>\n",
              "      <td>6.5</td>\n",
              "      <td>92.0</td>\n",
              "      <td>A family wedding reignites the ancient feud be...</td>\n",
              "      <td>15602</td>\n",
              "      <td>1995</td>\n",
              "    </tr>\n",
              "    <tr>\n",
              "      <th>3</th>\n",
              "      <td>Waiting to Exhale</td>\n",
              "      <td>[{'id': 35, 'name': 'Comedy'}, {'id': 18, 'nam...</td>\n",
              "      <td>127.0</td>\n",
              "      <td>6.1</td>\n",
              "      <td>34.0</td>\n",
              "      <td>Cheated on, mistreated and stepped on, the wom...</td>\n",
              "      <td>31357</td>\n",
              "      <td>1995</td>\n",
              "    </tr>\n",
              "    <tr>\n",
              "      <th>4</th>\n",
              "      <td>Father of the Bride Part II</td>\n",
              "      <td>[{'id': 35, 'name': 'Comedy'}]</td>\n",
              "      <td>106.0</td>\n",
              "      <td>5.7</td>\n",
              "      <td>173.0</td>\n",
              "      <td>Just when George Banks has recovered from his ...</td>\n",
              "      <td>11862</td>\n",
              "      <td>1995</td>\n",
              "    </tr>\n",
              "  </tbody>\n",
              "</table>\n",
              "</div>"
            ],
            "text/plain": [
              "                         title  \\\n",
              "0                    Toy Story   \n",
              "1                      Jumanji   \n",
              "2             Grumpier Old Men   \n",
              "3            Waiting to Exhale   \n",
              "4  Father of the Bride Part II   \n",
              "\n",
              "                                              genres  runtime  vote_average  \\\n",
              "0  [{'id': 16, 'name': 'Animation'}, {'id': 35, '...     81.0           7.7   \n",
              "1  [{'id': 12, 'name': 'Adventure'}, {'id': 14, '...    104.0           6.9   \n",
              "2  [{'id': 10749, 'name': 'Romance'}, {'id': 35, ...    101.0           6.5   \n",
              "3  [{'id': 35, 'name': 'Comedy'}, {'id': 18, 'nam...    127.0           6.1   \n",
              "4                     [{'id': 35, 'name': 'Comedy'}]    106.0           5.7   \n",
              "\n",
              "   vote_count                                           overview     id  year  \n",
              "0      5415.0  Led by Woody, Andy's toys live happily in his ...    862  1995  \n",
              "1      2413.0  When siblings Judy and Peter discover an encha...   8844  1995  \n",
              "2        92.0  A family wedding reignites the ancient feud be...  15602  1995  \n",
              "3        34.0  Cheated on, mistreated and stepped on, the wom...  31357  1995  \n",
              "4       173.0  Just when George Banks has recovered from his ...  11862  1995  "
            ]
          },
          "execution_count": 5,
          "metadata": {},
          "output_type": "execute_result"
        }
      ],
      "source": [
        "#Convert release_date into pandas datetime format\n",
        "df['release_date'] = pd.to_datetime(df['release_date'], errors='coerce')\n",
        "\n",
        "#Extract year from the datetime\n",
        "df['year'] = df['release_date'].apply(lambda x: str(x).split('-')[0] if x != np.nan else np.nan)\n",
        "\n",
        "#Function that convert NaN to 0 and all other years to integers.\n",
        "def convert_int(x):\n",
        "    try:\n",
        "        return int(x)\n",
        "    except:\n",
        "        return 0\n",
        "    \n",
        "#Apply convert_int to the year feature\n",
        "df['year'] = df['year'].apply(convert_int)\n",
        "\n",
        "#Drop the release_date column\n",
        "df = df.drop('release_date', axis=1)\n",
        "\n",
        "#Display the dataframe\n",
        "df.head()"
      ]
    },
    {
      "cell_type": "code",
      "execution_count": null,
      "id": "e15749ec",
      "metadata": {
        "id": "e15749ec",
        "outputId": "590eb275-5ee8-416b-81ff-20ec0ac394e0"
      },
      "outputs": [
        {
          "data": {
            "text/html": [
              "<div>\n",
              "<style scoped>\n",
              "    .dataframe tbody tr th:only-of-type {\n",
              "        vertical-align: middle;\n",
              "    }\n",
              "\n",
              "    .dataframe tbody tr th {\n",
              "        vertical-align: top;\n",
              "    }\n",
              "\n",
              "    .dataframe thead th {\n",
              "        text-align: right;\n",
              "    }\n",
              "</style>\n",
              "<table border=\"1\" class=\"dataframe\">\n",
              "  <thead>\n",
              "    <tr style=\"text-align: right;\">\n",
              "      <th></th>\n",
              "      <th>title</th>\n",
              "      <th>genres</th>\n",
              "      <th>runtime</th>\n",
              "      <th>vote_average</th>\n",
              "      <th>vote_count</th>\n",
              "      <th>overview</th>\n",
              "      <th>id</th>\n",
              "      <th>year</th>\n",
              "    </tr>\n",
              "  </thead>\n",
              "  <tbody>\n",
              "    <tr>\n",
              "      <th>0</th>\n",
              "      <td>Toy Story</td>\n",
              "      <td>[animation, comedy, family]</td>\n",
              "      <td>81.0</td>\n",
              "      <td>7.7</td>\n",
              "      <td>5415.0</td>\n",
              "      <td>Led by Woody, Andy's toys live happily in his ...</td>\n",
              "      <td>862</td>\n",
              "      <td>1995</td>\n",
              "    </tr>\n",
              "    <tr>\n",
              "      <th>1</th>\n",
              "      <td>Jumanji</td>\n",
              "      <td>[adventure, fantasy, family]</td>\n",
              "      <td>104.0</td>\n",
              "      <td>6.9</td>\n",
              "      <td>2413.0</td>\n",
              "      <td>When siblings Judy and Peter discover an encha...</td>\n",
              "      <td>8844</td>\n",
              "      <td>1995</td>\n",
              "    </tr>\n",
              "    <tr>\n",
              "      <th>2</th>\n",
              "      <td>Grumpier Old Men</td>\n",
              "      <td>[romance, comedy]</td>\n",
              "      <td>101.0</td>\n",
              "      <td>6.5</td>\n",
              "      <td>92.0</td>\n",
              "      <td>A family wedding reignites the ancient feud be...</td>\n",
              "      <td>15602</td>\n",
              "      <td>1995</td>\n",
              "    </tr>\n",
              "    <tr>\n",
              "      <th>3</th>\n",
              "      <td>Waiting to Exhale</td>\n",
              "      <td>[comedy, drama, romance]</td>\n",
              "      <td>127.0</td>\n",
              "      <td>6.1</td>\n",
              "      <td>34.0</td>\n",
              "      <td>Cheated on, mistreated and stepped on, the wom...</td>\n",
              "      <td>31357</td>\n",
              "      <td>1995</td>\n",
              "    </tr>\n",
              "    <tr>\n",
              "      <th>4</th>\n",
              "      <td>Father of the Bride Part II</td>\n",
              "      <td>[comedy]</td>\n",
              "      <td>106.0</td>\n",
              "      <td>5.7</td>\n",
              "      <td>173.0</td>\n",
              "      <td>Just when George Banks has recovered from his ...</td>\n",
              "      <td>11862</td>\n",
              "      <td>1995</td>\n",
              "    </tr>\n",
              "  </tbody>\n",
              "</table>\n",
              "</div>"
            ],
            "text/plain": [
              "                         title                        genres  runtime  \\\n",
              "0                    Toy Story   [animation, comedy, family]     81.0   \n",
              "1                      Jumanji  [adventure, fantasy, family]    104.0   \n",
              "2             Grumpier Old Men             [romance, comedy]    101.0   \n",
              "3            Waiting to Exhale      [comedy, drama, romance]    127.0   \n",
              "4  Father of the Bride Part II                      [comedy]    106.0   \n",
              "\n",
              "   vote_average  vote_count  \\\n",
              "0           7.7      5415.0   \n",
              "1           6.9      2413.0   \n",
              "2           6.5        92.0   \n",
              "3           6.1        34.0   \n",
              "4           5.7       173.0   \n",
              "\n",
              "                                            overview     id  year  \n",
              "0  Led by Woody, Andy's toys live happily in his ...    862  1995  \n",
              "1  When siblings Judy and Peter discover an encha...   8844  1995  \n",
              "2  A family wedding reignites the ancient feud be...  15602  1995  \n",
              "3  Cheated on, mistreated and stepped on, the wom...  31357  1995  \n",
              "4  Just when George Banks has recovered from his ...  11862  1995  "
            ]
          },
          "execution_count": 6,
          "metadata": {},
          "output_type": "execute_result"
        }
      ],
      "source": [
        "#Import the literal_eval function from ast\n",
        "from ast import literal_eval\n",
        "\n",
        "#Convert all NaN into stringified empty lists\n",
        "df['genres'] = df['genres'].fillna('[]')\n",
        "\n",
        "#Apply literal_eval to convert stringified empty lists to the list object\n",
        "df['genres'] = df['genres'].apply(literal_eval)\n",
        "\n",
        "#Convert list of dictionaries to a list of strings\n",
        "df['genres'] = df['genres'].apply(lambda x: [i['name'].lower() for i in x] if isinstance(x, list) else [])\n",
        "\n",
        "#Replace NaN with an empty string\n",
        "df['overview'] = df['overview'].fillna('')\n",
        "\n",
        "#Display the data frame\n",
        "df.head()"
      ]
    },
    {
      "cell_type": "markdown",
      "id": "32655bc4",
      "metadata": {
        "id": "32655bc4"
      },
      "source": [
        "# Content Based Recommender"
      ]
    },
    {
      "cell_type": "markdown",
      "id": "d34c17b0",
      "metadata": {
        "id": "d34c17b0"
      },
      "source": [
        "## Based on Overview (TFIDF and Cosine Sim)"
      ]
    },
    {
      "cell_type": "code",
      "execution_count": null,
      "id": "de069e22-238b-4009-bdbf-7a4f98c40e61",
      "metadata": {
        "id": "de069e22-238b-4009-bdbf-7a4f98c40e61",
        "outputId": "b3843e01-843a-41e6-f039-76b553c220cb"
      },
      "outputs": [
        {
          "data": {
            "text/plain": [
              "(45466, 75827)"
            ]
          },
          "execution_count": 7,
          "metadata": {},
          "output_type": "execute_result"
        }
      ],
      "source": [
        "#Import TfIdfVectorizer from the scikit-learn library\n",
        "from sklearn.feature_extraction.text import TfidfVectorizer\n",
        "\n",
        "#Define a TF-IDF Vectorizer Object. Remove all english stopwords\n",
        "tfidf = TfidfVectorizer(stop_words='english')\n",
        "\n",
        "#Construct the required TF-IDF matrix by applying the fit_transform method on the overview feature\n",
        "tfidf_matrix = tfidf.fit_transform(df['overview'])\n",
        "\n",
        "#Output the shape of tfidf_matrix\n",
        "tfidf_matrix.shape\n"
      ]
    },
    {
      "cell_type": "code",
      "execution_count": null,
      "id": "d73b89fa-dfda-4ce1-9e83-d3b3483b4975",
      "metadata": {
        "id": "d73b89fa-dfda-4ce1-9e83-d3b3483b4975"
      },
      "outputs": [],
      "source": [
        "# Import linear_kernel to compute the dot product\n",
        "from sklearn.metrics.pairwise import linear_kernel\n",
        "\n",
        "# Compute the cosine similarity matrix\n",
        "cosine_sim = linear_kernel(tfidf_matrix, tfidf_matrix)"
      ]
    },
    {
      "cell_type": "code",
      "execution_count": null,
      "id": "df2515f4-78c2-4ded-9b52-72730263dbfa",
      "metadata": {
        "id": "df2515f4-78c2-4ded-9b52-72730263dbfa",
        "outputId": "52eb38ba-c581-4a2d-a813-42980308cca9"
      },
      "outputs": [
        {
          "data": {
            "text/plain": [
              "title\n",
              "Toy Story                          0\n",
              "Jumanji                            1\n",
              "Grumpier Old Men                   2\n",
              "Waiting to Exhale                  3\n",
              "Father of the Bride Part II        4\n",
              "                               ...  \n",
              "Subdue                         45461\n",
              "Century of Birthing            45462\n",
              "Betrayal                       45463\n",
              "Satan Triumphant               45464\n",
              "Queerama                       45465\n",
              "Length: 45466, dtype: int64"
            ]
          },
          "execution_count": 9,
          "metadata": {},
          "output_type": "execute_result"
        }
      ],
      "source": [
        "#Construct a reverse mapping of indices and movie titles, and drop duplicate titles, if any\n",
        "indices = pd.Series(df.index, index=df['title']).drop_duplicates()\n",
        "indices"
      ]
    },
    {
      "cell_type": "code",
      "execution_count": null,
      "id": "89340e18-cb65-4588-adfe-281c8555302d",
      "metadata": {
        "id": "89340e18-cb65-4588-adfe-281c8555302d"
      },
      "outputs": [],
      "source": [
        "# Function that takes in movie title as input and gives recommendations\n",
        "def content_recommender(title, cosine_sim=cosine_sim, df=df, indices=indices):\n",
        "        # Obtain the index of the movie that matches the title\n",
        "        idx = indices[title]\n",
        "        \n",
        "        # Get the pairwise similarity scores of all movies with that movie\n",
        "        # And convert it into a list of tuples as described above\n",
        "        sim_scores = list(enumerate(cosine_sim[idx]))\n",
        "        \n",
        "        # Sort the movies based on the cosine similarity scores\n",
        "        sim_scores = sorted(sim_scores, key=lambda x: x[1], reverse=True)\n",
        "        \n",
        "        # Get the scores of the 10 most similar movies. Ignore the first movie.\n",
        "        sim_scores = sim_scores[1:11]\n",
        "\n",
        "        # Get the movie indices\n",
        "        movie_indices = [i[0] for i in sim_scores]\n",
        "        \n",
        "        # Return the top 10 most similar movies\n",
        "        return df['title'].iloc[movie_indices]\n"
      ]
    },
    {
      "cell_type": "code",
      "execution_count": null,
      "id": "c52ff4c3-8501-4927-824d-6b1890fd664b",
      "metadata": {
        "id": "c52ff4c3-8501-4927-824d-6b1890fd664b",
        "outputId": "2f20f937-05c6-476b-d24d-3b5d6005706e"
      },
      "outputs": [
        {
          "data": {
            "text/plain": [
              "1154                               The Empire Strikes Back\n",
              "30434                        The Star Wars Holiday Special\n",
              "26555                         Star Wars: The Force Awakens\n",
              "1167                                    Return of the Jedi\n",
              "34153           Samson and the Seven Miracles of the World\n",
              "1267                                          Mad Dog Time\n",
              "5187                                   The Triumph of Love\n",
              "37834                                         Call to Arms\n",
              "25104    1½ Knights - In Search of the Ravishing Prince...\n",
              "24388                                      Sleeping Beauty\n",
              "Name: title, dtype: object"
            ]
          },
          "execution_count": 11,
          "metadata": {},
          "output_type": "execute_result"
        }
      ],
      "source": [
        "#Get recommendations\n",
        "content_recommender('Star Wars')"
      ]
    },
    {
      "cell_type": "markdown",
      "id": "810fa9e5",
      "metadata": {
        "id": "810fa9e5"
      },
      "source": [
        "## Based on overview (Word2vec and Cosine Sim)"
      ]
    },
    {
      "cell_type": "code",
      "execution_count": null,
      "id": "cc1f58ba",
      "metadata": {
        "id": "cc1f58ba"
      },
      "outputs": [],
      "source": [
        "#Import the nltk (download punkt) and re library\n",
        "import nltk\n",
        "#nltk.download('punkt')\n",
        "import re\n",
        "SPECIAL_CHARS = '[^A-Za-z0-9 ]+'\n",
        "\n",
        "#Tokenizing the movies' overview, removing special characters and lowercasing \n",
        "def preprocess(text):\n",
        "    tokenized = [word for sent in [re.sub(SPECIAL_CHARS,'',element).split(' ')for\n",
        "                                      element in nltk.sent_tokenize(text)]for word in sent]\n",
        "    \n",
        "    lowered = [word.lower() for word in tokenized]\n",
        "    return lowered"
      ]
    },
    {
      "cell_type": "code",
      "execution_count": null,
      "id": "7dc357fd",
      "metadata": {
        "id": "7dc357fd"
      },
      "outputs": [],
      "source": [
        "overview_texts = [preprocess(text) for text in df.overview.tolist()]"
      ]
    },
    {
      "cell_type": "code",
      "execution_count": null,
      "id": "eb4bba52",
      "metadata": {
        "id": "eb4bba52"
      },
      "outputs": [],
      "source": [
        "#Adding Index\n",
        "movies_text = dict(zip(df.index.tolist(),overview_texts))"
      ]
    },
    {
      "cell_type": "markdown",
      "id": "fb9e5a00",
      "metadata": {
        "id": "fb9e5a00"
      },
      "source": [
        "Pre-trained model: https://code.google.com/archive/p/word2vec/"
      ]
    },
    {
      "cell_type": "code",
      "execution_count": null,
      "id": "8b9d6f76",
      "metadata": {
        "id": "8b9d6f76"
      },
      "outputs": [],
      "source": [
        "#Import the KeyedVectors to read pre-trained word2vec model\n",
        "from gensim.models import KeyedVectors\n",
        "\n",
        "#Read pre-trained model of word2vec\n",
        "w2v = KeyedVectors.load_word2vec_format('Desktop/AIM Assignment/GoogleNews-vectors-negative300.bin',binary=True)"
      ]
    },
    {
      "cell_type": "code",
      "execution_count": null,
      "id": "3f6feb36",
      "metadata": {
        "id": "3f6feb36"
      },
      "outputs": [],
      "source": [
        "#Calculate the vectors by using the word2vec with two parameter of dictionaries \n",
        "def get_vectors(first_map, second_map):\n",
        "    first_vec = dict()\n",
        "    for vid, content in first_map.items():\n",
        "        temp = list()\n",
        "        for element in content:\n",
        "            try:\n",
        "                temp.append(second_map[element])\n",
        "            except KeyError:\n",
        "                pass\n",
        "        first_vec[vid] = np.mean(temp,axis=0)\n",
        "    \n",
        "    return first_vec"
      ]
    },
    {
      "cell_type": "code",
      "execution_count": null,
      "id": "5e70a2bd",
      "metadata": {
        "id": "5e70a2bd",
        "outputId": "3418c6d6-52bd-4a14-d647-f8de0e564929"
      },
      "outputs": [
        {
          "name": "stderr",
          "output_type": "stream",
          "text": [
            "C:\\Users\\ILLEGEAR\\anaconda3\\lib\\site-packages\\numpy\\core\\fromnumeric.py:3440: RuntimeWarning: Mean of empty slice.\n",
            "  return _methods._mean(a, axis=axis, dtype=dtype,\n",
            "C:\\Users\\ILLEGEAR\\anaconda3\\lib\\site-packages\\numpy\\core\\_methods.py:189: RuntimeWarning: invalid value encountered in double_scalars\n",
            "  ret = ret.dtype.type(ret / rcount)\n"
          ]
        }
      ],
      "source": [
        "title_vec = get_vectors(movies_text,w2v)"
      ]
    },
    {
      "cell_type": "code",
      "execution_count": null,
      "id": "19f08b5d",
      "metadata": {
        "id": "19f08b5d"
      },
      "outputs": [],
      "source": [
        "# Reset index of df and construct reverse mapping again\n",
        "df = df.reset_index()\n",
        "indices3 = pd.Series(df.index, index=df['title']).drop_duplicates()"
      ]
    },
    {
      "cell_type": "code",
      "execution_count": null,
      "id": "6830f39d",
      "metadata": {
        "id": "6830f39d"
      },
      "outputs": [],
      "source": [
        "# Import cosine similarity to compute the dot product\n",
        "from sklearn.metrics.pairwise import cosine_similarity \n",
        "\n",
        "def get_similar(title):\n",
        "    sim = list()\n",
        "    idx = indices3[title]\n",
        "    \n",
        "    #Calculate cosine similarity of the vector and convert it into a list of tuples\n",
        "    for uid,vec in title_vec.items():\n",
        "        try:\n",
        "            thisSim = cosine_similarity(vec.reshape(1,-1),title_vec[idx].reshape(1,-1))\n",
        "            sim.append((uid,thisSim[0][0]))\n",
        "        except:\n",
        "            sim.append((uid,0))\n",
        "\n",
        "    # Sort the movies based on the cosine similarity scores\n",
        "    sim_scores = sorted(sim, key=lambda x: x[1], reverse=True)\n",
        "        \n",
        "    # Get the scores of the 10 most similar movies and also ignore the first movie.\n",
        "    sim_scores = sim_scores[1:11]\n",
        "\n",
        "    # Get the movie indices\n",
        "    movie_indices = [i[0] for i in sim_scores]\n",
        "\n",
        "    # Return the top 10 most similar movies\n",
        "    return df['title'].iloc[movie_indices]        "
      ]
    },
    {
      "cell_type": "code",
      "execution_count": null,
      "id": "0c328f6a",
      "metadata": {
        "id": "0c328f6a",
        "outputId": "9b4752e9-8861-41b6-c6b6-b7e637e785df"
      },
      "outputs": [
        {
          "data": {
            "text/plain": [
              "1154                     The Empire Strikes Back\n",
              "14066                  Assault on Devil's Island\n",
              "16667                Legend of the Eight Samurai\n",
              "10849                     Leprechaun 4: In Space\n",
              "1167                          Return of the Jedi\n",
              "30535                Mythica: A Quest for Heroes\n",
              "7335                             The Magic Flute\n",
              "41570                             The Deadly Duo\n",
              "35966    Deathstalker and the Warriors from Hell\n",
              "28958                        Ronal the Barbarian\n",
              "Name: title, dtype: object"
            ]
          },
          "execution_count": 20,
          "metadata": {},
          "output_type": "execute_result"
        }
      ],
      "source": [
        "get_similar('Star Wars')"
      ]
    },
    {
      "cell_type": "markdown",
      "id": "42e1abdc",
      "metadata": {
        "id": "42e1abdc"
      },
      "source": [
        "## Based on casts, actors, genres and keywords (Count Vectorizer and Cosine sim)"
      ]
    },
    {
      "cell_type": "code",
      "execution_count": null,
      "id": "83c7c8aa-d8a3-4e27-b8a2-da7301e137c2",
      "metadata": {
        "id": "83c7c8aa-d8a3-4e27-b8a2-da7301e137c2"
      },
      "outputs": [],
      "source": [
        "# Load the keywords and credits files\n",
        "cred_df = pd.read_csv('Desktop/AIM Assignment/data/credits.csv/credits.csv')\n",
        "key_df = pd.read_csv('Desktop/AIM Assignment/data/keywords.csv/keywords.csv')"
      ]
    },
    {
      "cell_type": "code",
      "execution_count": null,
      "id": "778fb623-3fc1-4fc5-b4b6-727c317d0c05",
      "metadata": {
        "id": "778fb623-3fc1-4fc5-b4b6-727c317d0c05",
        "outputId": "15c0f503-f422-4171-fa10-b8a0c5bb70a1"
      },
      "outputs": [
        {
          "data": {
            "text/html": [
              "<div>\n",
              "<style scoped>\n",
              "    .dataframe tbody tr th:only-of-type {\n",
              "        vertical-align: middle;\n",
              "    }\n",
              "\n",
              "    .dataframe tbody tr th {\n",
              "        vertical-align: top;\n",
              "    }\n",
              "\n",
              "    .dataframe thead th {\n",
              "        text-align: right;\n",
              "    }\n",
              "</style>\n",
              "<table border=\"1\" class=\"dataframe\">\n",
              "  <thead>\n",
              "    <tr style=\"text-align: right;\">\n",
              "      <th></th>\n",
              "      <th>cast</th>\n",
              "      <th>crew</th>\n",
              "      <th>id</th>\n",
              "    </tr>\n",
              "  </thead>\n",
              "  <tbody>\n",
              "    <tr>\n",
              "      <th>0</th>\n",
              "      <td>[{'cast_id': 14, 'character': 'Woody (voice)',...</td>\n",
              "      <td>[{'credit_id': '52fe4284c3a36847f8024f49', 'de...</td>\n",
              "      <td>862</td>\n",
              "    </tr>\n",
              "    <tr>\n",
              "      <th>1</th>\n",
              "      <td>[{'cast_id': 1, 'character': 'Alan Parrish', '...</td>\n",
              "      <td>[{'credit_id': '52fe44bfc3a36847f80a7cd1', 'de...</td>\n",
              "      <td>8844</td>\n",
              "    </tr>\n",
              "    <tr>\n",
              "      <th>2</th>\n",
              "      <td>[{'cast_id': 2, 'character': 'Max Goldman', 'c...</td>\n",
              "      <td>[{'credit_id': '52fe466a9251416c75077a89', 'de...</td>\n",
              "      <td>15602</td>\n",
              "    </tr>\n",
              "    <tr>\n",
              "      <th>3</th>\n",
              "      <td>[{'cast_id': 1, 'character': \"Savannah 'Vannah...</td>\n",
              "      <td>[{'credit_id': '52fe44779251416c91011acb', 'de...</td>\n",
              "      <td>31357</td>\n",
              "    </tr>\n",
              "    <tr>\n",
              "      <th>4</th>\n",
              "      <td>[{'cast_id': 1, 'character': 'George Banks', '...</td>\n",
              "      <td>[{'credit_id': '52fe44959251416c75039ed7', 'de...</td>\n",
              "      <td>11862</td>\n",
              "    </tr>\n",
              "  </tbody>\n",
              "</table>\n",
              "</div>"
            ],
            "text/plain": [
              "                                                cast  \\\n",
              "0  [{'cast_id': 14, 'character': 'Woody (voice)',...   \n",
              "1  [{'cast_id': 1, 'character': 'Alan Parrish', '...   \n",
              "2  [{'cast_id': 2, 'character': 'Max Goldman', 'c...   \n",
              "3  [{'cast_id': 1, 'character': \"Savannah 'Vannah...   \n",
              "4  [{'cast_id': 1, 'character': 'George Banks', '...   \n",
              "\n",
              "                                                crew     id  \n",
              "0  [{'credit_id': '52fe4284c3a36847f8024f49', 'de...    862  \n",
              "1  [{'credit_id': '52fe44bfc3a36847f80a7cd1', 'de...   8844  \n",
              "2  [{'credit_id': '52fe466a9251416c75077a89', 'de...  15602  \n",
              "3  [{'credit_id': '52fe44779251416c91011acb', 'de...  31357  \n",
              "4  [{'credit_id': '52fe44959251416c75039ed7', 'de...  11862  "
            ]
          },
          "execution_count": 22,
          "metadata": {},
          "output_type": "execute_result"
        }
      ],
      "source": [
        "#Print the head of the credit dataframe\n",
        "cred_df.head()"
      ]
    },
    {
      "cell_type": "code",
      "execution_count": null,
      "id": "618879fd-5f0c-4638-89be-2992de497767",
      "metadata": {
        "id": "618879fd-5f0c-4638-89be-2992de497767",
        "outputId": "fac98348-a3e1-4853-a226-e5ac2ba4d507"
      },
      "outputs": [
        {
          "data": {
            "text/html": [
              "<div>\n",
              "<style scoped>\n",
              "    .dataframe tbody tr th:only-of-type {\n",
              "        vertical-align: middle;\n",
              "    }\n",
              "\n",
              "    .dataframe tbody tr th {\n",
              "        vertical-align: top;\n",
              "    }\n",
              "\n",
              "    .dataframe thead th {\n",
              "        text-align: right;\n",
              "    }\n",
              "</style>\n",
              "<table border=\"1\" class=\"dataframe\">\n",
              "  <thead>\n",
              "    <tr style=\"text-align: right;\">\n",
              "      <th></th>\n",
              "      <th>id</th>\n",
              "      <th>keywords</th>\n",
              "    </tr>\n",
              "  </thead>\n",
              "  <tbody>\n",
              "    <tr>\n",
              "      <th>0</th>\n",
              "      <td>862</td>\n",
              "      <td>[{'id': 931, 'name': 'jealousy'}, {'id': 4290,...</td>\n",
              "    </tr>\n",
              "    <tr>\n",
              "      <th>1</th>\n",
              "      <td>8844</td>\n",
              "      <td>[{'id': 10090, 'name': 'board game'}, {'id': 1...</td>\n",
              "    </tr>\n",
              "    <tr>\n",
              "      <th>2</th>\n",
              "      <td>15602</td>\n",
              "      <td>[{'id': 1495, 'name': 'fishing'}, {'id': 12392...</td>\n",
              "    </tr>\n",
              "    <tr>\n",
              "      <th>3</th>\n",
              "      <td>31357</td>\n",
              "      <td>[{'id': 818, 'name': 'based on novel'}, {'id':...</td>\n",
              "    </tr>\n",
              "    <tr>\n",
              "      <th>4</th>\n",
              "      <td>11862</td>\n",
              "      <td>[{'id': 1009, 'name': 'baby'}, {'id': 1599, 'n...</td>\n",
              "    </tr>\n",
              "  </tbody>\n",
              "</table>\n",
              "</div>"
            ],
            "text/plain": [
              "      id                                           keywords\n",
              "0    862  [{'id': 931, 'name': 'jealousy'}, {'id': 4290,...\n",
              "1   8844  [{'id': 10090, 'name': 'board game'}, {'id': 1...\n",
              "2  15602  [{'id': 1495, 'name': 'fishing'}, {'id': 12392...\n",
              "3  31357  [{'id': 818, 'name': 'based on novel'}, {'id':...\n",
              "4  11862  [{'id': 1009, 'name': 'baby'}, {'id': 1599, 'n..."
            ]
          },
          "execution_count": 23,
          "metadata": {},
          "output_type": "execute_result"
        }
      ],
      "source": [
        "#Print the head of the keywords dataframe\n",
        "key_df.head()"
      ]
    },
    {
      "cell_type": "code",
      "execution_count": null,
      "id": "b14edfb9-c1c0-4a24-ac14-126c8f08461e",
      "metadata": {
        "id": "b14edfb9-c1c0-4a24-ac14-126c8f08461e",
        "outputId": "7954e6fb-f888-4142-910a-d45d43f51f8b"
      },
      "outputs": [
        {
          "data": {
            "text/html": [
              "<div>\n",
              "<style scoped>\n",
              "    .dataframe tbody tr th:only-of-type {\n",
              "        vertical-align: middle;\n",
              "    }\n",
              "\n",
              "    .dataframe tbody tr th {\n",
              "        vertical-align: top;\n",
              "    }\n",
              "\n",
              "    .dataframe thead th {\n",
              "        text-align: right;\n",
              "    }\n",
              "</style>\n",
              "<table border=\"1\" class=\"dataframe\">\n",
              "  <thead>\n",
              "    <tr style=\"text-align: right;\">\n",
              "      <th></th>\n",
              "      <th>index</th>\n",
              "      <th>title</th>\n",
              "      <th>genres</th>\n",
              "      <th>runtime</th>\n",
              "      <th>vote_average</th>\n",
              "      <th>vote_count</th>\n",
              "      <th>overview</th>\n",
              "      <th>id</th>\n",
              "      <th>year</th>\n",
              "    </tr>\n",
              "  </thead>\n",
              "  <tbody>\n",
              "    <tr>\n",
              "      <th>0</th>\n",
              "      <td>0</td>\n",
              "      <td>Toy Story</td>\n",
              "      <td>[animation, comedy, family]</td>\n",
              "      <td>81.0</td>\n",
              "      <td>7.7</td>\n",
              "      <td>5415.0</td>\n",
              "      <td>Led by Woody, Andy's toys live happily in his ...</td>\n",
              "      <td>862.0</td>\n",
              "      <td>1995</td>\n",
              "    </tr>\n",
              "    <tr>\n",
              "      <th>1</th>\n",
              "      <td>1</td>\n",
              "      <td>Jumanji</td>\n",
              "      <td>[adventure, fantasy, family]</td>\n",
              "      <td>104.0</td>\n",
              "      <td>6.9</td>\n",
              "      <td>2413.0</td>\n",
              "      <td>When siblings Judy and Peter discover an encha...</td>\n",
              "      <td>8844.0</td>\n",
              "      <td>1995</td>\n",
              "    </tr>\n",
              "    <tr>\n",
              "      <th>2</th>\n",
              "      <td>2</td>\n",
              "      <td>Grumpier Old Men</td>\n",
              "      <td>[romance, comedy]</td>\n",
              "      <td>101.0</td>\n",
              "      <td>6.5</td>\n",
              "      <td>92.0</td>\n",
              "      <td>A family wedding reignites the ancient feud be...</td>\n",
              "      <td>15602.0</td>\n",
              "      <td>1995</td>\n",
              "    </tr>\n",
              "    <tr>\n",
              "      <th>3</th>\n",
              "      <td>3</td>\n",
              "      <td>Waiting to Exhale</td>\n",
              "      <td>[comedy, drama, romance]</td>\n",
              "      <td>127.0</td>\n",
              "      <td>6.1</td>\n",
              "      <td>34.0</td>\n",
              "      <td>Cheated on, mistreated and stepped on, the wom...</td>\n",
              "      <td>31357.0</td>\n",
              "      <td>1995</td>\n",
              "    </tr>\n",
              "    <tr>\n",
              "      <th>4</th>\n",
              "      <td>4</td>\n",
              "      <td>Father of the Bride Part II</td>\n",
              "      <td>[comedy]</td>\n",
              "      <td>106.0</td>\n",
              "      <td>5.7</td>\n",
              "      <td>173.0</td>\n",
              "      <td>Just when George Banks has recovered from his ...</td>\n",
              "      <td>11862.0</td>\n",
              "      <td>1995</td>\n",
              "    </tr>\n",
              "  </tbody>\n",
              "</table>\n",
              "</div>"
            ],
            "text/plain": [
              "   index                        title                        genres  runtime  \\\n",
              "0      0                    Toy Story   [animation, comedy, family]     81.0   \n",
              "1      1                      Jumanji  [adventure, fantasy, family]    104.0   \n",
              "2      2             Grumpier Old Men             [romance, comedy]    101.0   \n",
              "3      3            Waiting to Exhale      [comedy, drama, romance]    127.0   \n",
              "4      4  Father of the Bride Part II                      [comedy]    106.0   \n",
              "\n",
              "   vote_average  vote_count  \\\n",
              "0           7.7      5415.0   \n",
              "1           6.9      2413.0   \n",
              "2           6.5        92.0   \n",
              "3           6.1        34.0   \n",
              "4           5.7       173.0   \n",
              "\n",
              "                                            overview       id  year  \n",
              "0  Led by Woody, Andy's toys live happily in his ...    862.0  1995  \n",
              "1  When siblings Judy and Peter discover an encha...   8844.0  1995  \n",
              "2  A family wedding reignites the ancient feud be...  15602.0  1995  \n",
              "3  Cheated on, mistreated and stepped on, the wom...  31357.0  1995  \n",
              "4  Just when George Banks has recovered from his ...  11862.0  1995  "
            ]
          },
          "execution_count": 24,
          "metadata": {},
          "output_type": "execute_result"
        }
      ],
      "source": [
        "# Function to convert all non-integer IDs to NaN\n",
        "def clean_ids(x):\n",
        "    try:\n",
        "        return int(x)\n",
        "    except:\n",
        "        return np.nan\n",
        "    \n",
        "#Clean the ids of df\n",
        "df['id'] = df['id'].apply(clean_ids)\n",
        "\n",
        "#Filter all rows that have a null ID\n",
        "df = df[df['id'].notnull()]\n",
        "df.head()"
      ]
    },
    {
      "cell_type": "code",
      "execution_count": null,
      "id": "381d5f1a-93d2-473e-9191-8e921442570e",
      "metadata": {
        "id": "381d5f1a-93d2-473e-9191-8e921442570e",
        "outputId": "7ec116ce-dce4-4e87-fd56-2e7b387d21e5"
      },
      "outputs": [
        {
          "data": {
            "text/html": [
              "<div>\n",
              "<style scoped>\n",
              "    .dataframe tbody tr th:only-of-type {\n",
              "        vertical-align: middle;\n",
              "    }\n",
              "\n",
              "    .dataframe tbody tr th {\n",
              "        vertical-align: top;\n",
              "    }\n",
              "\n",
              "    .dataframe thead th {\n",
              "        text-align: right;\n",
              "    }\n",
              "</style>\n",
              "<table border=\"1\" class=\"dataframe\">\n",
              "  <thead>\n",
              "    <tr style=\"text-align: right;\">\n",
              "      <th></th>\n",
              "      <th>index</th>\n",
              "      <th>title</th>\n",
              "      <th>genres</th>\n",
              "      <th>runtime</th>\n",
              "      <th>vote_average</th>\n",
              "      <th>vote_count</th>\n",
              "      <th>overview</th>\n",
              "      <th>id</th>\n",
              "      <th>year</th>\n",
              "      <th>cast</th>\n",
              "      <th>crew</th>\n",
              "      <th>keywords</th>\n",
              "    </tr>\n",
              "  </thead>\n",
              "  <tbody>\n",
              "    <tr>\n",
              "      <th>0</th>\n",
              "      <td>0</td>\n",
              "      <td>Toy Story</td>\n",
              "      <td>[animation, comedy, family]</td>\n",
              "      <td>81.0</td>\n",
              "      <td>7.7</td>\n",
              "      <td>5415.0</td>\n",
              "      <td>Led by Woody, Andy's toys live happily in his ...</td>\n",
              "      <td>862</td>\n",
              "      <td>1995</td>\n",
              "      <td>[{'cast_id': 14, 'character': 'Woody (voice)',...</td>\n",
              "      <td>[{'credit_id': '52fe4284c3a36847f8024f49', 'de...</td>\n",
              "      <td>[{'id': 931, 'name': 'jealousy'}, {'id': 4290,...</td>\n",
              "    </tr>\n",
              "    <tr>\n",
              "      <th>1</th>\n",
              "      <td>1</td>\n",
              "      <td>Jumanji</td>\n",
              "      <td>[adventure, fantasy, family]</td>\n",
              "      <td>104.0</td>\n",
              "      <td>6.9</td>\n",
              "      <td>2413.0</td>\n",
              "      <td>When siblings Judy and Peter discover an encha...</td>\n",
              "      <td>8844</td>\n",
              "      <td>1995</td>\n",
              "      <td>[{'cast_id': 1, 'character': 'Alan Parrish', '...</td>\n",
              "      <td>[{'credit_id': '52fe44bfc3a36847f80a7cd1', 'de...</td>\n",
              "      <td>[{'id': 10090, 'name': 'board game'}, {'id': 1...</td>\n",
              "    </tr>\n",
              "    <tr>\n",
              "      <th>2</th>\n",
              "      <td>2</td>\n",
              "      <td>Grumpier Old Men</td>\n",
              "      <td>[romance, comedy]</td>\n",
              "      <td>101.0</td>\n",
              "      <td>6.5</td>\n",
              "      <td>92.0</td>\n",
              "      <td>A family wedding reignites the ancient feud be...</td>\n",
              "      <td>15602</td>\n",
              "      <td>1995</td>\n",
              "      <td>[{'cast_id': 2, 'character': 'Max Goldman', 'c...</td>\n",
              "      <td>[{'credit_id': '52fe466a9251416c75077a89', 'de...</td>\n",
              "      <td>[{'id': 1495, 'name': 'fishing'}, {'id': 12392...</td>\n",
              "    </tr>\n",
              "    <tr>\n",
              "      <th>3</th>\n",
              "      <td>3</td>\n",
              "      <td>Waiting to Exhale</td>\n",
              "      <td>[comedy, drama, romance]</td>\n",
              "      <td>127.0</td>\n",
              "      <td>6.1</td>\n",
              "      <td>34.0</td>\n",
              "      <td>Cheated on, mistreated and stepped on, the wom...</td>\n",
              "      <td>31357</td>\n",
              "      <td>1995</td>\n",
              "      <td>[{'cast_id': 1, 'character': \"Savannah 'Vannah...</td>\n",
              "      <td>[{'credit_id': '52fe44779251416c91011acb', 'de...</td>\n",
              "      <td>[{'id': 818, 'name': 'based on novel'}, {'id':...</td>\n",
              "    </tr>\n",
              "    <tr>\n",
              "      <th>4</th>\n",
              "      <td>4</td>\n",
              "      <td>Father of the Bride Part II</td>\n",
              "      <td>[comedy]</td>\n",
              "      <td>106.0</td>\n",
              "      <td>5.7</td>\n",
              "      <td>173.0</td>\n",
              "      <td>Just when George Banks has recovered from his ...</td>\n",
              "      <td>11862</td>\n",
              "      <td>1995</td>\n",
              "      <td>[{'cast_id': 1, 'character': 'George Banks', '...</td>\n",
              "      <td>[{'credit_id': '52fe44959251416c75039ed7', 'de...</td>\n",
              "      <td>[{'id': 1009, 'name': 'baby'}, {'id': 1599, 'n...</td>\n",
              "    </tr>\n",
              "  </tbody>\n",
              "</table>\n",
              "</div>"
            ],
            "text/plain": [
              "   index                        title                        genres  runtime  \\\n",
              "0      0                    Toy Story   [animation, comedy, family]     81.0   \n",
              "1      1                      Jumanji  [adventure, fantasy, family]    104.0   \n",
              "2      2             Grumpier Old Men             [romance, comedy]    101.0   \n",
              "3      3            Waiting to Exhale      [comedy, drama, romance]    127.0   \n",
              "4      4  Father of the Bride Part II                      [comedy]    106.0   \n",
              "\n",
              "   vote_average  vote_count  \\\n",
              "0           7.7      5415.0   \n",
              "1           6.9      2413.0   \n",
              "2           6.5        92.0   \n",
              "3           6.1        34.0   \n",
              "4           5.7       173.0   \n",
              "\n",
              "                                            overview     id  year  \\\n",
              "0  Led by Woody, Andy's toys live happily in his ...    862  1995   \n",
              "1  When siblings Judy and Peter discover an encha...   8844  1995   \n",
              "2  A family wedding reignites the ancient feud be...  15602  1995   \n",
              "3  Cheated on, mistreated and stepped on, the wom...  31357  1995   \n",
              "4  Just when George Banks has recovered from his ...  11862  1995   \n",
              "\n",
              "                                                cast  \\\n",
              "0  [{'cast_id': 14, 'character': 'Woody (voice)',...   \n",
              "1  [{'cast_id': 1, 'character': 'Alan Parrish', '...   \n",
              "2  [{'cast_id': 2, 'character': 'Max Goldman', 'c...   \n",
              "3  [{'cast_id': 1, 'character': \"Savannah 'Vannah...   \n",
              "4  [{'cast_id': 1, 'character': 'George Banks', '...   \n",
              "\n",
              "                                                crew  \\\n",
              "0  [{'credit_id': '52fe4284c3a36847f8024f49', 'de...   \n",
              "1  [{'credit_id': '52fe44bfc3a36847f80a7cd1', 'de...   \n",
              "2  [{'credit_id': '52fe466a9251416c75077a89', 'de...   \n",
              "3  [{'credit_id': '52fe44779251416c91011acb', 'de...   \n",
              "4  [{'credit_id': '52fe44959251416c75039ed7', 'de...   \n",
              "\n",
              "                                            keywords  \n",
              "0  [{'id': 931, 'name': 'jealousy'}, {'id': 4290,...  \n",
              "1  [{'id': 10090, 'name': 'board game'}, {'id': 1...  \n",
              "2  [{'id': 1495, 'name': 'fishing'}, {'id': 12392...  \n",
              "3  [{'id': 818, 'name': 'based on novel'}, {'id':...  \n",
              "4  [{'id': 1009, 'name': 'baby'}, {'id': 1599, 'n...  "
            ]
          },
          "execution_count": 25,
          "metadata": {},
          "output_type": "execute_result"
        }
      ],
      "source": [
        "# Convert IDs into integer\n",
        "df['id'] = df['id'].astype('int')\n",
        "key_df['id'] = key_df['id'].astype('int')\n",
        "cred_df['id'] = cred_df['id'].astype('int')\n",
        "\n",
        "# Merge keywords and credits into your main metadata dataframe\n",
        "df = df.merge(cred_df, on='id')\n",
        "df = df.merge(key_df, on='id')\n",
        "\n",
        "#Display the head of the merged df\n",
        "df.head()"
      ]
    },
    {
      "cell_type": "code",
      "execution_count": null,
      "id": "9b2a4093-1e9a-43dd-9030-4b76606ff05c",
      "metadata": {
        "id": "9b2a4093-1e9a-43dd-9030-4b76606ff05c"
      },
      "outputs": [],
      "source": [
        "# Convert the stringified objects into the native python objects\n",
        "from ast import literal_eval\n",
        "\n",
        "features = ['cast', 'crew', 'keywords']\n",
        "\n",
        "for feature in features:\n",
        "    df[feature] = df[feature].apply(literal_eval)"
      ]
    },
    {
      "cell_type": "code",
      "execution_count": null,
      "id": "05bc2e7c",
      "metadata": {
        "id": "05bc2e7c",
        "outputId": "0b0ceb7d-674a-44f9-94a3-554f5f011b64"
      },
      "outputs": [
        {
          "data": {
            "text/html": [
              "<div>\n",
              "<style scoped>\n",
              "    .dataframe tbody tr th:only-of-type {\n",
              "        vertical-align: middle;\n",
              "    }\n",
              "\n",
              "    .dataframe tbody tr th {\n",
              "        vertical-align: top;\n",
              "    }\n",
              "\n",
              "    .dataframe thead th {\n",
              "        text-align: right;\n",
              "    }\n",
              "</style>\n",
              "<table border=\"1\" class=\"dataframe\">\n",
              "  <thead>\n",
              "    <tr style=\"text-align: right;\">\n",
              "      <th></th>\n",
              "      <th>index</th>\n",
              "      <th>title</th>\n",
              "      <th>genres</th>\n",
              "      <th>runtime</th>\n",
              "      <th>vote_average</th>\n",
              "      <th>vote_count</th>\n",
              "      <th>overview</th>\n",
              "      <th>id</th>\n",
              "      <th>year</th>\n",
              "      <th>cast</th>\n",
              "      <th>crew</th>\n",
              "      <th>keywords</th>\n",
              "    </tr>\n",
              "  </thead>\n",
              "  <tbody>\n",
              "    <tr>\n",
              "      <th>0</th>\n",
              "      <td>0</td>\n",
              "      <td>Toy Story</td>\n",
              "      <td>[animation, comedy, family]</td>\n",
              "      <td>81.0</td>\n",
              "      <td>7.7</td>\n",
              "      <td>5415.0</td>\n",
              "      <td>Led by Woody, Andy's toys live happily in his ...</td>\n",
              "      <td>862</td>\n",
              "      <td>1995</td>\n",
              "      <td>[{'cast_id': 14, 'character': 'Woody (voice)',...</td>\n",
              "      <td>[{'credit_id': '52fe4284c3a36847f8024f49', 'de...</td>\n",
              "      <td>[{'id': 931, 'name': 'jealousy'}, {'id': 4290,...</td>\n",
              "    </tr>\n",
              "    <tr>\n",
              "      <th>1</th>\n",
              "      <td>1</td>\n",
              "      <td>Jumanji</td>\n",
              "      <td>[adventure, fantasy, family]</td>\n",
              "      <td>104.0</td>\n",
              "      <td>6.9</td>\n",
              "      <td>2413.0</td>\n",
              "      <td>When siblings Judy and Peter discover an encha...</td>\n",
              "      <td>8844</td>\n",
              "      <td>1995</td>\n",
              "      <td>[{'cast_id': 1, 'character': 'Alan Parrish', '...</td>\n",
              "      <td>[{'credit_id': '52fe44bfc3a36847f80a7cd1', 'de...</td>\n",
              "      <td>[{'id': 10090, 'name': 'board game'}, {'id': 1...</td>\n",
              "    </tr>\n",
              "    <tr>\n",
              "      <th>2</th>\n",
              "      <td>2</td>\n",
              "      <td>Grumpier Old Men</td>\n",
              "      <td>[romance, comedy]</td>\n",
              "      <td>101.0</td>\n",
              "      <td>6.5</td>\n",
              "      <td>92.0</td>\n",
              "      <td>A family wedding reignites the ancient feud be...</td>\n",
              "      <td>15602</td>\n",
              "      <td>1995</td>\n",
              "      <td>[{'cast_id': 2, 'character': 'Max Goldman', 'c...</td>\n",
              "      <td>[{'credit_id': '52fe466a9251416c75077a89', 'de...</td>\n",
              "      <td>[{'id': 1495, 'name': 'fishing'}, {'id': 12392...</td>\n",
              "    </tr>\n",
              "    <tr>\n",
              "      <th>3</th>\n",
              "      <td>3</td>\n",
              "      <td>Waiting to Exhale</td>\n",
              "      <td>[comedy, drama, romance]</td>\n",
              "      <td>127.0</td>\n",
              "      <td>6.1</td>\n",
              "      <td>34.0</td>\n",
              "      <td>Cheated on, mistreated and stepped on, the wom...</td>\n",
              "      <td>31357</td>\n",
              "      <td>1995</td>\n",
              "      <td>[{'cast_id': 1, 'character': 'Savannah 'Vannah...</td>\n",
              "      <td>[{'credit_id': '52fe44779251416c91011acb', 'de...</td>\n",
              "      <td>[{'id': 818, 'name': 'based on novel'}, {'id':...</td>\n",
              "    </tr>\n",
              "    <tr>\n",
              "      <th>4</th>\n",
              "      <td>4</td>\n",
              "      <td>Father of the Bride Part II</td>\n",
              "      <td>[comedy]</td>\n",
              "      <td>106.0</td>\n",
              "      <td>5.7</td>\n",
              "      <td>173.0</td>\n",
              "      <td>Just when George Banks has recovered from his ...</td>\n",
              "      <td>11862</td>\n",
              "      <td>1995</td>\n",
              "      <td>[{'cast_id': 1, 'character': 'George Banks', '...</td>\n",
              "      <td>[{'credit_id': '52fe44959251416c75039ed7', 'de...</td>\n",
              "      <td>[{'id': 1009, 'name': 'baby'}, {'id': 1599, 'n...</td>\n",
              "    </tr>\n",
              "  </tbody>\n",
              "</table>\n",
              "</div>"
            ],
            "text/plain": [
              "   index                        title                        genres  runtime  \\\n",
              "0      0                    Toy Story   [animation, comedy, family]     81.0   \n",
              "1      1                      Jumanji  [adventure, fantasy, family]    104.0   \n",
              "2      2             Grumpier Old Men             [romance, comedy]    101.0   \n",
              "3      3            Waiting to Exhale      [comedy, drama, romance]    127.0   \n",
              "4      4  Father of the Bride Part II                      [comedy]    106.0   \n",
              "\n",
              "   vote_average  vote_count  \\\n",
              "0           7.7      5415.0   \n",
              "1           6.9      2413.0   \n",
              "2           6.5        92.0   \n",
              "3           6.1        34.0   \n",
              "4           5.7       173.0   \n",
              "\n",
              "                                            overview     id  year  \\\n",
              "0  Led by Woody, Andy's toys live happily in his ...    862  1995   \n",
              "1  When siblings Judy and Peter discover an encha...   8844  1995   \n",
              "2  A family wedding reignites the ancient feud be...  15602  1995   \n",
              "3  Cheated on, mistreated and stepped on, the wom...  31357  1995   \n",
              "4  Just when George Banks has recovered from his ...  11862  1995   \n",
              "\n",
              "                                                cast  \\\n",
              "0  [{'cast_id': 14, 'character': 'Woody (voice)',...   \n",
              "1  [{'cast_id': 1, 'character': 'Alan Parrish', '...   \n",
              "2  [{'cast_id': 2, 'character': 'Max Goldman', 'c...   \n",
              "3  [{'cast_id': 1, 'character': 'Savannah 'Vannah...   \n",
              "4  [{'cast_id': 1, 'character': 'George Banks', '...   \n",
              "\n",
              "                                                crew  \\\n",
              "0  [{'credit_id': '52fe4284c3a36847f8024f49', 'de...   \n",
              "1  [{'credit_id': '52fe44bfc3a36847f80a7cd1', 'de...   \n",
              "2  [{'credit_id': '52fe466a9251416c75077a89', 'de...   \n",
              "3  [{'credit_id': '52fe44779251416c91011acb', 'de...   \n",
              "4  [{'credit_id': '52fe44959251416c75039ed7', 'de...   \n",
              "\n",
              "                                            keywords  \n",
              "0  [{'id': 931, 'name': 'jealousy'}, {'id': 4290,...  \n",
              "1  [{'id': 10090, 'name': 'board game'}, {'id': 1...  \n",
              "2  [{'id': 1495, 'name': 'fishing'}, {'id': 12392...  \n",
              "3  [{'id': 818, 'name': 'based on novel'}, {'id':...  \n",
              "4  [{'id': 1009, 'name': 'baby'}, {'id': 1599, 'n...  "
            ]
          },
          "execution_count": 27,
          "metadata": {},
          "output_type": "execute_result"
        }
      ],
      "source": [
        "df.head()"
      ]
    },
    {
      "cell_type": "code",
      "execution_count": null,
      "id": "e480a431-73c3-461a-a653-617c003ca071",
      "metadata": {
        "id": "e480a431-73c3-461a-a653-617c003ca071",
        "outputId": "0cee3573-1835-4889-c55b-a43606372ad8"
      },
      "outputs": [
        {
          "data": {
            "text/plain": [
              "{'credit_id': '52fe4284c3a36847f8024f49',\n",
              " 'department': 'Directing',\n",
              " 'gender': 2,\n",
              " 'id': 7879,\n",
              " 'job': 'Director',\n",
              " 'name': 'John Lasseter',\n",
              " 'profile_path': '/7EdqiNbr4FRjIhKHyPPdFfEEEFG.jpg'}"
            ]
          },
          "execution_count": 28,
          "metadata": {},
          "output_type": "execute_result"
        }
      ],
      "source": [
        "#Print the first cast member of the first movie in df\n",
        "df.iloc[0]['crew'][0]"
      ]
    },
    {
      "cell_type": "code",
      "execution_count": null,
      "id": "2b749d0d-7318-45c5-9982-2b680e2f747d",
      "metadata": {
        "id": "2b749d0d-7318-45c5-9982-2b680e2f747d"
      },
      "outputs": [],
      "source": [
        "# Extract the director's name. If director is not listed, return NaN\n",
        "def get_director(x):\n",
        "    for crew_member in x:\n",
        "        if crew_member['job'] == 'Director':\n",
        "            return crew_member['name']\n",
        "    return np.nan"
      ]
    },
    {
      "cell_type": "code",
      "execution_count": null,
      "id": "ff62390f-a873-4eaa-92f5-a551791cc419",
      "metadata": {
        "id": "ff62390f-a873-4eaa-92f5-a551791cc419",
        "outputId": "9a2d55f4-111c-46a0-9bd5-b619425591a2"
      },
      "outputs": [
        {
          "data": {
            "text/plain": [
              "0      John Lasseter\n",
              "1       Joe Johnston\n",
              "2      Howard Deutch\n",
              "3    Forest Whitaker\n",
              "4      Charles Shyer\n",
              "Name: director, dtype: object"
            ]
          },
          "execution_count": 30,
          "metadata": {},
          "output_type": "execute_result"
        }
      ],
      "source": [
        "#Define the new director feature\n",
        "df['director'] = df['crew'].apply(get_director)\n",
        "\n",
        "#Print the directors of the first five movies\n",
        "df['director'].head()"
      ]
    },
    {
      "cell_type": "code",
      "execution_count": null,
      "id": "acb460d8-c7dd-49f4-99b2-ac05c1005485",
      "metadata": {
        "id": "acb460d8-c7dd-49f4-99b2-ac05c1005485"
      },
      "outputs": [],
      "source": [
        "# Returns the list top 3 elements or entire list; whichever is more.\n",
        "def generate_list(x):\n",
        "    if isinstance(x, list):\n",
        "        names = [ele['name'] for ele in x]\n",
        "    \n",
        "        #Check if more than 3 elements exist. If yes, return only first three.\n",
        "        #If no, return entire list.  \n",
        "        if len(names) > 3:\n",
        "            names = names[:3]\n",
        "            \n",
        "        return names\n",
        "    \n",
        "        #Return empty list in case of missing/malformed data\n",
        "    return []"
      ]
    },
    {
      "cell_type": "code",
      "execution_count": null,
      "id": "56aeb70b-c0dd-4aeb-8b5f-9148f66f3b0e",
      "metadata": {
        "id": "56aeb70b-c0dd-4aeb-8b5f-9148f66f3b0e"
      },
      "outputs": [],
      "source": [
        "#Apply the generate_list function to cast and keywords\n",
        "df['cast'] = df['cast'].apply(generate_list)\n",
        "df['keywords'] = df['keywords'].apply(generate_list)\n",
        "\n",
        "#Only consider a maximum of 3 genres\n",
        "df['genres'] = df['genres'].apply(lambda x: x[:3])"
      ]
    },
    {
      "cell_type": "code",
      "execution_count": null,
      "id": "92bb2806-6919-4d66-aead-2bc0c74e2ad3",
      "metadata": {
        "id": "92bb2806-6919-4d66-aead-2bc0c74e2ad3",
        "outputId": "69aa04d5-ded3-4f5a-c345-a7caa5eef97a"
      },
      "outputs": [
        {
          "data": {
            "text/html": [
              "<div>\n",
              "<style scoped>\n",
              "    .dataframe tbody tr th:only-of-type {\n",
              "        vertical-align: middle;\n",
              "    }\n",
              "\n",
              "    .dataframe tbody tr th {\n",
              "        vertical-align: top;\n",
              "    }\n",
              "\n",
              "    .dataframe thead th {\n",
              "        text-align: right;\n",
              "    }\n",
              "</style>\n",
              "<table border=\"1\" class=\"dataframe\">\n",
              "  <thead>\n",
              "    <tr style=\"text-align: right;\">\n",
              "      <th></th>\n",
              "      <th>title</th>\n",
              "      <th>cast</th>\n",
              "      <th>director</th>\n",
              "      <th>keywords</th>\n",
              "      <th>genres</th>\n",
              "    </tr>\n",
              "  </thead>\n",
              "  <tbody>\n",
              "    <tr>\n",
              "      <th>0</th>\n",
              "      <td>Toy Story</td>\n",
              "      <td>[Tom Hanks, Tim Allen, Don Rickles]</td>\n",
              "      <td>John Lasseter</td>\n",
              "      <td>[jealousy, toy, boy]</td>\n",
              "      <td>[animation, comedy, family]</td>\n",
              "    </tr>\n",
              "    <tr>\n",
              "      <th>1</th>\n",
              "      <td>Jumanji</td>\n",
              "      <td>[Robin Williams, Jonathan Hyde, Kirsten Dunst]</td>\n",
              "      <td>Joe Johnston</td>\n",
              "      <td>[board game, disappearance, based on children'...</td>\n",
              "      <td>[adventure, fantasy, family]</td>\n",
              "    </tr>\n",
              "    <tr>\n",
              "      <th>2</th>\n",
              "      <td>Grumpier Old Men</td>\n",
              "      <td>[Walter Matthau, Jack Lemmon, Ann-Margret]</td>\n",
              "      <td>Howard Deutch</td>\n",
              "      <td>[fishing, best friend, duringcreditsstinger]</td>\n",
              "      <td>[romance, comedy]</td>\n",
              "    </tr>\n",
              "    <tr>\n",
              "      <th>3</th>\n",
              "      <td>Waiting to Exhale</td>\n",
              "      <td>[Whitney Houston, Angela Bassett, Loretta Devine]</td>\n",
              "      <td>Forest Whitaker</td>\n",
              "      <td>[based on novel, interracial relationship, sin...</td>\n",
              "      <td>[comedy, drama, romance]</td>\n",
              "    </tr>\n",
              "    <tr>\n",
              "      <th>4</th>\n",
              "      <td>Father of the Bride Part II</td>\n",
              "      <td>[Steve Martin, Diane Keaton, Martin Short]</td>\n",
              "      <td>Charles Shyer</td>\n",
              "      <td>[baby, midlife crisis, confidence]</td>\n",
              "      <td>[comedy]</td>\n",
              "    </tr>\n",
              "  </tbody>\n",
              "</table>\n",
              "</div>"
            ],
            "text/plain": [
              "                         title  \\\n",
              "0                    Toy Story   \n",
              "1                      Jumanji   \n",
              "2             Grumpier Old Men   \n",
              "3            Waiting to Exhale   \n",
              "4  Father of the Bride Part II   \n",
              "\n",
              "                                                cast         director  \\\n",
              "0                [Tom Hanks, Tim Allen, Don Rickles]    John Lasseter   \n",
              "1     [Robin Williams, Jonathan Hyde, Kirsten Dunst]     Joe Johnston   \n",
              "2         [Walter Matthau, Jack Lemmon, Ann-Margret]    Howard Deutch   \n",
              "3  [Whitney Houston, Angela Bassett, Loretta Devine]  Forest Whitaker   \n",
              "4         [Steve Martin, Diane Keaton, Martin Short]    Charles Shyer   \n",
              "\n",
              "                                            keywords  \\\n",
              "0                               [jealousy, toy, boy]   \n",
              "1  [board game, disappearance, based on children'...   \n",
              "2       [fishing, best friend, duringcreditsstinger]   \n",
              "3  [based on novel, interracial relationship, sin...   \n",
              "4                 [baby, midlife crisis, confidence]   \n",
              "\n",
              "                         genres  \n",
              "0   [animation, comedy, family]  \n",
              "1  [adventure, fantasy, family]  \n",
              "2             [romance, comedy]  \n",
              "3      [comedy, drama, romance]  \n",
              "4                      [comedy]  "
            ]
          },
          "execution_count": 33,
          "metadata": {},
          "output_type": "execute_result"
        }
      ],
      "source": [
        "# Print the new features of the first 5 movies along with title\n",
        "df[['title', 'cast', 'director', 'keywords', 'genres']].head()"
      ]
    },
    {
      "cell_type": "code",
      "execution_count": null,
      "id": "84180b52-fd1b-4c2e-8475-3c2cb0a9d9bb",
      "metadata": {
        "id": "84180b52-fd1b-4c2e-8475-3c2cb0a9d9bb"
      },
      "outputs": [],
      "source": [
        "# Function to sanitize data to prevent ambiguity.\n",
        "# Removes spaces and converts to lowercase\n",
        "def sanitize(x):\n",
        "    if isinstance(x, list):\n",
        "        #Strip spaces and convert to lowercase\n",
        "        return [str.lower(i.replace(\" \", \"\")) for i in x]\n",
        "    \n",
        "    else:\n",
        "        #Check if director exists. If not, return empty string\n",
        "        if isinstance(x, str):\n",
        "            return str.lower(x.replace(\" \", \"\"))\n",
        "        else:\n",
        "            return ''"
      ]
    },
    {
      "cell_type": "code",
      "execution_count": null,
      "id": "cf79a706-63b7-428e-9450-8ac8cf8b5bdc",
      "metadata": {
        "id": "cf79a706-63b7-428e-9450-8ac8cf8b5bdc"
      },
      "outputs": [],
      "source": [
        "#Apply the generate_list function to cast, keywords, director and genres\n",
        "for feature in ['cast', 'director', 'genres', 'keywords']:\n",
        "    df[feature] = df[feature].apply(sanitize)"
      ]
    },
    {
      "cell_type": "code",
      "execution_count": null,
      "id": "0e1e4eb3-c76d-49f2-a32e-68f02a104090",
      "metadata": {
        "id": "0e1e4eb3-c76d-49f2-a32e-68f02a104090"
      },
      "outputs": [],
      "source": [
        "#Function that creates a soup out of the desired metadata\n",
        "def create_soup(x):\n",
        "    return ' '.join(x['keywords']) + ' ' + ' '.join(x['cast']) + ' ' + x['director'] + ' ' + ' '.join(x['genres'])"
      ]
    },
    {
      "cell_type": "code",
      "execution_count": null,
      "id": "bad15299-7f6f-4edc-98ce-3a882850edbf",
      "metadata": {
        "id": "bad15299-7f6f-4edc-98ce-3a882850edbf"
      },
      "outputs": [],
      "source": [
        "# Create the new soup feature\n",
        "df['soup'] = df.apply(create_soup, axis=1)"
      ]
    },
    {
      "cell_type": "code",
      "execution_count": null,
      "id": "6080931e-08bc-4825-acca-415eec83de3d",
      "metadata": {
        "id": "6080931e-08bc-4825-acca-415eec83de3d",
        "outputId": "2ef912f7-2e82-4fd3-a2bf-8249123350b9"
      },
      "outputs": [
        {
          "data": {
            "text/plain": [
              "'jealousy toy boy tomhanks timallen donrickles johnlasseter animation comedy family'"
            ]
          },
          "execution_count": 38,
          "metadata": {},
          "output_type": "execute_result"
        }
      ],
      "source": [
        "#Display the soup of the first movie\n",
        "df.iloc[0]['soup']"
      ]
    },
    {
      "cell_type": "code",
      "execution_count": null,
      "id": "46b26aaa-5a32-4609-81be-da2543aa68c2",
      "metadata": {
        "id": "46b26aaa-5a32-4609-81be-da2543aa68c2"
      },
      "outputs": [],
      "source": [
        "# Import CountVectorizer\n",
        "from sklearn.feature_extraction.text import CountVectorizer\n",
        "\n",
        "#Define a new CountVectorizer object and create vectors for the soup\n",
        "count = CountVectorizer(stop_words='english')\n",
        "count_matrix = count.fit_transform(df['soup'])"
      ]
    },
    {
      "cell_type": "code",
      "execution_count": null,
      "id": "6fa38516-0bb7-4dcb-9bbb-b018d6b3e6e1",
      "metadata": {
        "scrolled": true,
        "id": "6fa38516-0bb7-4dcb-9bbb-b018d6b3e6e1"
      },
      "outputs": [],
      "source": [
        "#Import cosine_similarity function\n",
        "from sklearn.metrics.pairwise import cosine_similarity\n",
        "\n",
        "#Compute the cosine similarity score (equivalent to dot product for tf-idf vectors)\n",
        "cosine_sim2 = cosine_similarity(count_matrix, count_matrix)"
      ]
    },
    {
      "cell_type": "code",
      "execution_count": null,
      "id": "000af512-7b8d-4ed3-9068-f17c4c4b712e",
      "metadata": {
        "id": "000af512-7b8d-4ed3-9068-f17c4c4b712e"
      },
      "outputs": [],
      "source": [
        "# Reset index of df and construct reverse mapping again\n",
        "df = df.reset_index()\n",
        "indices2 = pd.Series(df.index, index=df['title']).drop_duplicates()"
      ]
    },
    {
      "cell_type": "code",
      "execution_count": null,
      "id": "33aac627-4756-4844-9146-e27e51a07432",
      "metadata": {
        "id": "33aac627-4756-4844-9146-e27e51a07432",
        "outputId": "59e2b36c-5d94-4a17-a82e-1ecd823960e8"
      },
      "outputs": [
        {
          "data": {
            "text/plain": [
              "1175                          The Empire Strikes Back\n",
              "1188                               Return of the Jedi\n",
              "22889                              Behind Enemy Lines\n",
              "685                                              Solo\n",
              "2534        Star Wars: Episode I - The Phantom Menace\n",
              "5292     Star Wars: Episode II - Attack of the Clones\n",
              "7982                             The Last Starfighter\n",
              "10157    Star Wars: Episode III - Revenge of the Sith\n",
              "22120                                    Ender's Game\n",
              "26770                    Star Wars: The Force Awakens\n",
              "Name: title, dtype: object"
            ]
          },
          "execution_count": 42,
          "metadata": {},
          "output_type": "execute_result"
        }
      ],
      "source": [
        "content_recommender('Star Wars', cosine_sim2, df, indices2)"
      ]
    },
    {
      "cell_type": "markdown",
      "id": "97ce6b6a",
      "metadata": {
        "id": "97ce6b6a"
      },
      "source": [
        "# Collaborative Filtering"
      ]
    },
    {
      "cell_type": "markdown",
      "id": "7f506edb",
      "metadata": {
        "id": "7f506edb"
      },
      "source": [
        "!pip install scikit-surprise"
      ]
    },
    {
      "cell_type": "code",
      "execution_count": null,
      "id": "9106acb4",
      "metadata": {
        "id": "9106acb4",
        "outputId": "7f08a21a-c006-4b07-c792-7963f6ef1766"
      },
      "outputs": [
        {
          "data": {
            "text/html": [
              "<div>\n",
              "<style scoped>\n",
              "    .dataframe tbody tr th:only-of-type {\n",
              "        vertical-align: middle;\n",
              "    }\n",
              "\n",
              "    .dataframe tbody tr th {\n",
              "        vertical-align: top;\n",
              "    }\n",
              "\n",
              "    .dataframe thead th {\n",
              "        text-align: right;\n",
              "    }\n",
              "</style>\n",
              "<table border=\"1\" class=\"dataframe\">\n",
              "  <thead>\n",
              "    <tr style=\"text-align: right;\">\n",
              "      <th></th>\n",
              "      <th>userId</th>\n",
              "      <th>movieId</th>\n",
              "      <th>rating</th>\n",
              "    </tr>\n",
              "  </thead>\n",
              "  <tbody>\n",
              "    <tr>\n",
              "      <th>0</th>\n",
              "      <td>1</td>\n",
              "      <td>31</td>\n",
              "      <td>2.5</td>\n",
              "    </tr>\n",
              "    <tr>\n",
              "      <th>1</th>\n",
              "      <td>1</td>\n",
              "      <td>1029</td>\n",
              "      <td>3.0</td>\n",
              "    </tr>\n",
              "    <tr>\n",
              "      <th>2</th>\n",
              "      <td>1</td>\n",
              "      <td>1061</td>\n",
              "      <td>3.0</td>\n",
              "    </tr>\n",
              "    <tr>\n",
              "      <th>3</th>\n",
              "      <td>1</td>\n",
              "      <td>1129</td>\n",
              "      <td>2.0</td>\n",
              "    </tr>\n",
              "    <tr>\n",
              "      <th>4</th>\n",
              "      <td>1</td>\n",
              "      <td>1172</td>\n",
              "      <td>4.0</td>\n",
              "    </tr>\n",
              "  </tbody>\n",
              "</table>\n",
              "</div>"
            ],
            "text/plain": [
              "   userId  movieId  rating\n",
              "0       1       31     2.5\n",
              "1       1     1029     3.0\n",
              "2       1     1061     3.0\n",
              "3       1     1129     2.0\n",
              "4       1     1172     4.0"
            ]
          },
          "execution_count": 43,
          "metadata": {},
          "output_type": "execute_result"
        }
      ],
      "source": [
        "#Import the pandas and numpy library \n",
        "import pandas as pd\n",
        "import numpy as np\n",
        "\n",
        "#Read the CSV File\n",
        "ratings = pd.read_csv('Desktop/AIM Assignment/data/ratings_small.csv/ratings_small.csv', low_memory=False)\n",
        "\n",
        "#Drop the timestamp column\n",
        "ratings = ratings.drop('timestamp', axis=1)\n",
        "ratings.head()"
      ]
    },
    {
      "cell_type": "code",
      "execution_count": null,
      "id": "d2e54b0d",
      "metadata": {
        "id": "d2e54b0d",
        "outputId": "7c0d4931-6884-435e-a221-0c7ce3b23c66"
      },
      "outputs": [
        {
          "name": "stdout",
          "output_type": "stream",
          "text": [
            "Computing the msd similarity matrix...\n",
            "Done computing similarity matrix.\n",
            "Computing the msd similarity matrix...\n",
            "Done computing similarity matrix.\n",
            "Computing the msd similarity matrix...\n",
            "Done computing similarity matrix.\n",
            "Computing the msd similarity matrix...\n",
            "Done computing similarity matrix.\n",
            "Computing the msd similarity matrix...\n",
            "Done computing similarity matrix.\n",
            "Evaluating RMSE, MAE of algorithm KNNBasic on 5 split(s).\n",
            "\n",
            "                  Fold 1  Fold 2  Fold 3  Fold 4  Fold 5  Mean    Std     \n",
            "RMSE (testset)    0.9682  0.9668  0.9730  0.9678  0.9614  0.9674  0.0037  \n",
            "MAE (testset)     0.7457  0.7448  0.7461  0.7441  0.7408  0.7443  0.0019  \n",
            "Fit time          0.27    0.18    0.18    0.18    0.18    0.20    0.04    \n",
            "Test time         12.65   1.06    1.03    1.03    1.06    3.37    4.64    \n"
          ]
        },
        {
          "data": {
            "text/plain": [
              "{'test_rmse': array([0.9681648 , 0.96681279, 0.97295394, 0.96782674, 0.96142499]),\n",
              " 'test_mae': array([0.74568951, 0.74478248, 0.74606091, 0.7440707 , 0.7407611 ]),\n",
              " 'fit_time': (0.27124571800231934,\n",
              "  0.18350791931152344,\n",
              "  0.18251633644104004,\n",
              "  0.17752456665039062,\n",
              "  0.1790306568145752),\n",
              " 'test_time': (12.648827314376831,\n",
              "  1.061840534210205,\n",
              "  1.0253162384033203,\n",
              "  1.0309858322143555,\n",
              "  1.0587236881256104)}"
            ]
          },
          "execution_count": 44,
          "metadata": {},
          "output_type": "execute_result"
        }
      ],
      "source": [
        "#Import the required classes and methods from the surprise library\n",
        "from surprise import Reader, Dataset, KNNBasic\n",
        "from surprise.model_selection import cross_validate\n",
        "\n",
        "#Define a Reader object\n",
        "#The Reader object helps in parsing the file or dataframe containing ratings\n",
        "reader = Reader()\n",
        "\n",
        "#Create the dataset to be used for building the filter\n",
        "data = Dataset.load_from_df(ratings, reader)\n",
        "\n",
        "#Define the algorithm object; in this case kNN\n",
        "knn = KNNBasic()\n",
        "\n",
        "#Evaluate the performance in terms of RMSE and MAE\n",
        "cross_validate(knn, data, measures=['RMSE', 'MAE'], cv=5, verbose=True)"
      ]
    },
    {
      "cell_type": "code",
      "execution_count": null,
      "id": "ee98e536",
      "metadata": {
        "id": "ee98e536",
        "outputId": "5497b15d-edb9-4196-b2e4-34434f1bb3b6"
      },
      "outputs": [
        {
          "name": "stdout",
          "output_type": "stream",
          "text": [
            "Evaluating RMSE, MAE of algorithm SVD on 5 split(s).\n",
            "\n",
            "                  Fold 1  Fold 2  Fold 3  Fold 4  Fold 5  Mean    Std     \n",
            "RMSE (testset)    0.8971  0.8856  0.8970  0.9005  0.9038  0.8968  0.0061  \n",
            "MAE (testset)     0.6906  0.6835  0.6907  0.6915  0.6960  0.6905  0.0040  \n",
            "Fit time          3.63    3.65    3.77    3.74    3.69    3.70    0.05    \n",
            "Test time         0.13    0.09    0.50    0.10    0.10    0.18    0.16    \n"
          ]
        },
        {
          "data": {
            "text/plain": [
              "{'test_rmse': array([0.89705984, 0.88561073, 0.89702055, 0.90047385, 0.90375967]),\n",
              " 'test_mae': array([0.69058341, 0.68346467, 0.69071241, 0.69153381, 0.69602599]),\n",
              " 'fit_time': (3.6322109699249268,\n",
              "  3.646416187286377,\n",
              "  3.773909568786621,\n",
              "  3.742990255355835,\n",
              "  3.691591739654541),\n",
              " 'test_time': (0.1270449161529541,\n",
              "  0.09478950500488281,\n",
              "  0.4996626377105713,\n",
              "  0.09873580932617188,\n",
              "  0.09973335266113281)}"
            ]
          },
          "execution_count": 45,
          "metadata": {},
          "output_type": "execute_result"
        }
      ],
      "source": [
        "#Import SVD\n",
        "from surprise import SVD\n",
        "\n",
        "#Define the SVD algorithm object\n",
        "svd = SVD()\n",
        "\n",
        "#Evaluate the performance in terms of RMSE\n",
        "cross_validate(svd, data, measures=['RMSE', 'MAE'], cv=5, verbose=True)"
      ]
    },
    {
      "cell_type": "code",
      "execution_count": null,
      "id": "6bf08865",
      "metadata": {
        "id": "6bf08865",
        "outputId": "85baed85-040a-43a2-9795-bab864733a2d"
      },
      "outputs": [
        {
          "data": {
            "text/plain": [
              "<surprise.prediction_algorithms.matrix_factorization.SVD at 0x20e0d5f7e20>"
            ]
          },
          "execution_count": 46,
          "metadata": {},
          "output_type": "execute_result"
        }
      ],
      "source": [
        "#Train dataset by using svd\n",
        "trainset = data.build_full_trainset()\n",
        "svd.fit(trainset)"
      ]
    },
    {
      "cell_type": "code",
      "execution_count": null,
      "id": "8184ae8b",
      "metadata": {
        "scrolled": true,
        "id": "8184ae8b"
      },
      "outputs": [],
      "source": [
        "#Shows user 1's rating\n",
        "ratings[ratings['userId'] == 1]"
      ]
    },
    {
      "cell_type": "code",
      "execution_count": null,
      "id": "085d682f",
      "metadata": {
        "id": "085d682f"
      },
      "outputs": [],
      "source": [
        "#Predict the user 1's rating of movie id 1029\n",
        "svd.predict(1, 1029, 3)"
      ]
    },
    {
      "cell_type": "code",
      "execution_count": null,
      "id": "32755a7d",
      "metadata": {
        "id": "32755a7d"
      },
      "outputs": [],
      "source": [
        ""
      ]
    }
  ],
  "metadata": {
    "kernelspec": {
      "display_name": "Python 3 (ipykernel)",
      "language": "python",
      "name": "python3"
    },
    "language_info": {
      "codemirror_mode": {
        "name": "ipython",
        "version": 3
      },
      "file_extension": ".py",
      "mimetype": "text/x-python",
      "name": "python",
      "nbconvert_exporter": "python",
      "pygments_lexer": "ipython3",
      "version": "3.9.12"
    },
    "colab": {
      "name": "AIM Assignment .ipynb",
      "provenance": []
    }
  },
  "nbformat": 4,
  "nbformat_minor": 5
}
